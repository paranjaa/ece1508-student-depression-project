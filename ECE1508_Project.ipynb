{
  "nbformat": 4,
  "nbformat_minor": 0,
  "metadata": {
    "colab": {
      "provenance": [],
      "authorship_tag": "ABX9TyPcfeRY7Qsizfcv5x2Kr3wg",
      "include_colab_link": true
    },
    "kernelspec": {
      "name": "python3",
      "display_name": "Python 3"
    },
    "language_info": {
      "name": "python"
    }
  },
  "cells": [
    {
      "cell_type": "markdown",
      "metadata": {
        "id": "view-in-github",
        "colab_type": "text"
      },
      "source": [
        "<a href=\"https://colab.research.google.com/github/paranjaa/ece1508-student-depression-project/blob/main/ECE1508_Project.ipynb\" target=\"_parent\"><img src=\"https://colab.research.google.com/assets/colab-badge.svg\" alt=\"Open In Colab\"/></a>"
      ]
    },
    {
      "cell_type": "code",
      "execution_count": null,
      "metadata": {
        "id": "QAJmp3CoYPEk",
        "outputId": "a5601fe4-1bcc-42e1-f033-74051447d002",
        "colab": {
          "base_uri": "https://localhost:8080/"
        }
      },
      "outputs": [
        {
          "output_type": "stream",
          "name": "stdout",
          "text": [
            "Hello World\n"
          ]
        }
      ],
      "source": [
        "print(\"Hello World\")"
      ]
    },
    {
      "cell_type": "code",
      "source": [
        "#basing this off some gpt-generated code, with a few changes"
      ],
      "metadata": {
        "colab": {
          "base_uri": "https://localhost:8080/"
        },
        "id": "j1LnREBx5Yir",
        "outputId": "944105b5-1a9d-437e-d1fc-a4c25578dd2e"
      },
      "execution_count": null,
      "outputs": [
        {
          "output_type": "stream",
          "name": "stdout",
          "text": [
            "2.5.1+cu124\n"
          ]
        }
      ]
    },
    {
      "cell_type": "code",
      "source": [
        "#import each one of the libraries\n",
        "import matplotlib.pyplot as plt\n",
        "import pandas as pd\n",
        "import torch\n",
        "import torch.nn as nn\n",
        "import torch.optim as optim\n",
        "from sklearn.model_selection import train_test_split\n",
        "from sklearn.preprocessing import StandardScaler\n",
        "from torch.utils.data import DataLoader, TensorDataset"
      ],
      "metadata": {
        "id": "nKTql-fYhtF7",
        "collapsed": true
      },
      "execution_count": null,
      "outputs": []
    },
    {
      "cell_type": "code",
      "source": [
        "from google.colab import drive\n",
        "drive.mount('/content/gdrive')"
      ],
      "metadata": {
        "id": "jvWdjvXWhvoV",
        "colab": {
          "base_uri": "https://localhost:8080/"
        },
        "outputId": "0b3a081b-6971-49cb-80b6-1f2efddb39fb"
      },
      "execution_count": null,
      "outputs": [
        {
          "output_type": "stream",
          "name": "stdout",
          "text": [
            "Drive already mounted at /content/gdrive; to attempt to forcibly remount, call drive.mount(\"/content/gdrive\", force_remount=True).\n"
          ]
        }
      ]
    },
    {
      "cell_type": "code",
      "source": [
        "import pandas as pd\n",
        "#need to check if this works with others\n",
        "df = pd.read_csv('gdrive/My Drive/ECE1508/Project/Student_Depression_Dataset.csv')\n"
      ],
      "metadata": {
        "id": "8jPSG44UyI7q"
      },
      "execution_count": null,
      "outputs": []
    },
    {
      "cell_type": "code",
      "source": [
        "df.info()"
      ],
      "metadata": {
        "colab": {
          "base_uri": "https://localhost:8080/"
        },
        "id": "irrC-NW815cX",
        "outputId": "02d61390-79c0-45f9-f71a-9d36d99ea15f"
      },
      "execution_count": null,
      "outputs": [
        {
          "output_type": "stream",
          "name": "stdout",
          "text": [
            "<class 'pandas.core.frame.DataFrame'>\n",
            "RangeIndex: 27901 entries, 0 to 27900\n",
            "Data columns (total 18 columns):\n",
            " #   Column                                 Non-Null Count  Dtype  \n",
            "---  ------                                 --------------  -----  \n",
            " 0   id                                     27901 non-null  int64  \n",
            " 1   Gender                                 27901 non-null  object \n",
            " 2   Age                                    27901 non-null  float64\n",
            " 3   City                                   27901 non-null  object \n",
            " 4   Profession                             27901 non-null  object \n",
            " 5   Academic Pressure                      27901 non-null  float64\n",
            " 6   Work Pressure                          27901 non-null  float64\n",
            " 7   CGPA                                   27901 non-null  float64\n",
            " 8   Study Satisfaction                     27901 non-null  float64\n",
            " 9   Job Satisfaction                       27901 non-null  float64\n",
            " 10  Sleep Duration                         27901 non-null  object \n",
            " 11  Dietary Habits                         27901 non-null  object \n",
            " 12  Degree                                 27901 non-null  object \n",
            " 13  Have you ever had suicidal thoughts ?  27901 non-null  object \n",
            " 14  Work/Study Hours                       27901 non-null  float64\n",
            " 15  Financial Stress                       27898 non-null  float64\n",
            " 16  Family History of Mental Illness       27901 non-null  object \n",
            " 17  Depression                             27901 non-null  int64  \n",
            "dtypes: float64(8), int64(2), object(8)\n",
            "memory usage: 3.8+ MB\n"
          ]
        }
      ]
    },
    {
      "cell_type": "code",
      "source": [
        "df.head()"
      ],
      "metadata": {
        "colab": {
          "base_uri": "https://localhost:8080/",
          "height": 313
        },
        "id": "Uu6Iibnw16sW",
        "outputId": "ad7d8a46-fde0-466c-d639-603656235da0"
      },
      "execution_count": null,
      "outputs": [
        {
          "output_type": "execute_result",
          "data": {
            "text/plain": [
              "   id  Gender   Age           City Profession  Academic Pressure  \\\n",
              "0   2    Male  33.0  Visakhapatnam    Student                5.0   \n",
              "1   8  Female  24.0      Bangalore    Student                2.0   \n",
              "2  26    Male  31.0       Srinagar    Student                3.0   \n",
              "3  30  Female  28.0       Varanasi    Student                3.0   \n",
              "4  32  Female  25.0         Jaipur    Student                4.0   \n",
              "\n",
              "   Work Pressure  CGPA  Study Satisfaction  Job Satisfaction  \\\n",
              "0            0.0  8.97                 2.0               0.0   \n",
              "1            0.0  5.90                 5.0               0.0   \n",
              "2            0.0  7.03                 5.0               0.0   \n",
              "3            0.0  5.59                 2.0               0.0   \n",
              "4            0.0  8.13                 3.0               0.0   \n",
              "\n",
              "      Sleep Duration Dietary Habits   Degree  \\\n",
              "0          5-6 hours        Healthy  B.Pharm   \n",
              "1          5-6 hours       Moderate      BSc   \n",
              "2  Less than 5 hours        Healthy       BA   \n",
              "3          7-8 hours       Moderate      BCA   \n",
              "4          5-6 hours       Moderate   M.Tech   \n",
              "\n",
              "  Have you ever had suicidal thoughts ?  Work/Study Hours  Financial Stress  \\\n",
              "0                                   Yes               3.0               1.0   \n",
              "1                                    No               3.0               2.0   \n",
              "2                                    No               9.0               1.0   \n",
              "3                                   Yes               4.0               5.0   \n",
              "4                                   Yes               1.0               1.0   \n",
              "\n",
              "  Family History of Mental Illness  Depression  \n",
              "0                               No           1  \n",
              "1                              Yes           0  \n",
              "2                              Yes           0  \n",
              "3                              Yes           1  \n",
              "4                               No           0  "
            ],
            "text/html": [
              "\n",
              "  <div id=\"df-3a932be6-c211-4b75-b887-aa94232edc5a\" class=\"colab-df-container\">\n",
              "    <div>\n",
              "<style scoped>\n",
              "    .dataframe tbody tr th:only-of-type {\n",
              "        vertical-align: middle;\n",
              "    }\n",
              "\n",
              "    .dataframe tbody tr th {\n",
              "        vertical-align: top;\n",
              "    }\n",
              "\n",
              "    .dataframe thead th {\n",
              "        text-align: right;\n",
              "    }\n",
              "</style>\n",
              "<table border=\"1\" class=\"dataframe\">\n",
              "  <thead>\n",
              "    <tr style=\"text-align: right;\">\n",
              "      <th></th>\n",
              "      <th>id</th>\n",
              "      <th>Gender</th>\n",
              "      <th>Age</th>\n",
              "      <th>City</th>\n",
              "      <th>Profession</th>\n",
              "      <th>Academic Pressure</th>\n",
              "      <th>Work Pressure</th>\n",
              "      <th>CGPA</th>\n",
              "      <th>Study Satisfaction</th>\n",
              "      <th>Job Satisfaction</th>\n",
              "      <th>Sleep Duration</th>\n",
              "      <th>Dietary Habits</th>\n",
              "      <th>Degree</th>\n",
              "      <th>Have you ever had suicidal thoughts ?</th>\n",
              "      <th>Work/Study Hours</th>\n",
              "      <th>Financial Stress</th>\n",
              "      <th>Family History of Mental Illness</th>\n",
              "      <th>Depression</th>\n",
              "    </tr>\n",
              "  </thead>\n",
              "  <tbody>\n",
              "    <tr>\n",
              "      <th>0</th>\n",
              "      <td>2</td>\n",
              "      <td>Male</td>\n",
              "      <td>33.0</td>\n",
              "      <td>Visakhapatnam</td>\n",
              "      <td>Student</td>\n",
              "      <td>5.0</td>\n",
              "      <td>0.0</td>\n",
              "      <td>8.97</td>\n",
              "      <td>2.0</td>\n",
              "      <td>0.0</td>\n",
              "      <td>5-6 hours</td>\n",
              "      <td>Healthy</td>\n",
              "      <td>B.Pharm</td>\n",
              "      <td>Yes</td>\n",
              "      <td>3.0</td>\n",
              "      <td>1.0</td>\n",
              "      <td>No</td>\n",
              "      <td>1</td>\n",
              "    </tr>\n",
              "    <tr>\n",
              "      <th>1</th>\n",
              "      <td>8</td>\n",
              "      <td>Female</td>\n",
              "      <td>24.0</td>\n",
              "      <td>Bangalore</td>\n",
              "      <td>Student</td>\n",
              "      <td>2.0</td>\n",
              "      <td>0.0</td>\n",
              "      <td>5.90</td>\n",
              "      <td>5.0</td>\n",
              "      <td>0.0</td>\n",
              "      <td>5-6 hours</td>\n",
              "      <td>Moderate</td>\n",
              "      <td>BSc</td>\n",
              "      <td>No</td>\n",
              "      <td>3.0</td>\n",
              "      <td>2.0</td>\n",
              "      <td>Yes</td>\n",
              "      <td>0</td>\n",
              "    </tr>\n",
              "    <tr>\n",
              "      <th>2</th>\n",
              "      <td>26</td>\n",
              "      <td>Male</td>\n",
              "      <td>31.0</td>\n",
              "      <td>Srinagar</td>\n",
              "      <td>Student</td>\n",
              "      <td>3.0</td>\n",
              "      <td>0.0</td>\n",
              "      <td>7.03</td>\n",
              "      <td>5.0</td>\n",
              "      <td>0.0</td>\n",
              "      <td>Less than 5 hours</td>\n",
              "      <td>Healthy</td>\n",
              "      <td>BA</td>\n",
              "      <td>No</td>\n",
              "      <td>9.0</td>\n",
              "      <td>1.0</td>\n",
              "      <td>Yes</td>\n",
              "      <td>0</td>\n",
              "    </tr>\n",
              "    <tr>\n",
              "      <th>3</th>\n",
              "      <td>30</td>\n",
              "      <td>Female</td>\n",
              "      <td>28.0</td>\n",
              "      <td>Varanasi</td>\n",
              "      <td>Student</td>\n",
              "      <td>3.0</td>\n",
              "      <td>0.0</td>\n",
              "      <td>5.59</td>\n",
              "      <td>2.0</td>\n",
              "      <td>0.0</td>\n",
              "      <td>7-8 hours</td>\n",
              "      <td>Moderate</td>\n",
              "      <td>BCA</td>\n",
              "      <td>Yes</td>\n",
              "      <td>4.0</td>\n",
              "      <td>5.0</td>\n",
              "      <td>Yes</td>\n",
              "      <td>1</td>\n",
              "    </tr>\n",
              "    <tr>\n",
              "      <th>4</th>\n",
              "      <td>32</td>\n",
              "      <td>Female</td>\n",
              "      <td>25.0</td>\n",
              "      <td>Jaipur</td>\n",
              "      <td>Student</td>\n",
              "      <td>4.0</td>\n",
              "      <td>0.0</td>\n",
              "      <td>8.13</td>\n",
              "      <td>3.0</td>\n",
              "      <td>0.0</td>\n",
              "      <td>5-6 hours</td>\n",
              "      <td>Moderate</td>\n",
              "      <td>M.Tech</td>\n",
              "      <td>Yes</td>\n",
              "      <td>1.0</td>\n",
              "      <td>1.0</td>\n",
              "      <td>No</td>\n",
              "      <td>0</td>\n",
              "    </tr>\n",
              "  </tbody>\n",
              "</table>\n",
              "</div>\n",
              "    <div class=\"colab-df-buttons\">\n",
              "\n",
              "  <div class=\"colab-df-container\">\n",
              "    <button class=\"colab-df-convert\" onclick=\"convertToInteractive('df-3a932be6-c211-4b75-b887-aa94232edc5a')\"\n",
              "            title=\"Convert this dataframe to an interactive table.\"\n",
              "            style=\"display:none;\">\n",
              "\n",
              "  <svg xmlns=\"http://www.w3.org/2000/svg\" height=\"24px\" viewBox=\"0 -960 960 960\">\n",
              "    <path d=\"M120-120v-720h720v720H120Zm60-500h600v-160H180v160Zm220 220h160v-160H400v160Zm0 220h160v-160H400v160ZM180-400h160v-160H180v160Zm440 0h160v-160H620v160ZM180-180h160v-160H180v160Zm440 0h160v-160H620v160Z\"/>\n",
              "  </svg>\n",
              "    </button>\n",
              "\n",
              "  <style>\n",
              "    .colab-df-container {\n",
              "      display:flex;\n",
              "      gap: 12px;\n",
              "    }\n",
              "\n",
              "    .colab-df-convert {\n",
              "      background-color: #E8F0FE;\n",
              "      border: none;\n",
              "      border-radius: 50%;\n",
              "      cursor: pointer;\n",
              "      display: none;\n",
              "      fill: #1967D2;\n",
              "      height: 32px;\n",
              "      padding: 0 0 0 0;\n",
              "      width: 32px;\n",
              "    }\n",
              "\n",
              "    .colab-df-convert:hover {\n",
              "      background-color: #E2EBFA;\n",
              "      box-shadow: 0px 1px 2px rgba(60, 64, 67, 0.3), 0px 1px 3px 1px rgba(60, 64, 67, 0.15);\n",
              "      fill: #174EA6;\n",
              "    }\n",
              "\n",
              "    .colab-df-buttons div {\n",
              "      margin-bottom: 4px;\n",
              "    }\n",
              "\n",
              "    [theme=dark] .colab-df-convert {\n",
              "      background-color: #3B4455;\n",
              "      fill: #D2E3FC;\n",
              "    }\n",
              "\n",
              "    [theme=dark] .colab-df-convert:hover {\n",
              "      background-color: #434B5C;\n",
              "      box-shadow: 0px 1px 3px 1px rgba(0, 0, 0, 0.15);\n",
              "      filter: drop-shadow(0px 1px 2px rgba(0, 0, 0, 0.3));\n",
              "      fill: #FFFFFF;\n",
              "    }\n",
              "  </style>\n",
              "\n",
              "    <script>\n",
              "      const buttonEl =\n",
              "        document.querySelector('#df-3a932be6-c211-4b75-b887-aa94232edc5a button.colab-df-convert');\n",
              "      buttonEl.style.display =\n",
              "        google.colab.kernel.accessAllowed ? 'block' : 'none';\n",
              "\n",
              "      async function convertToInteractive(key) {\n",
              "        const element = document.querySelector('#df-3a932be6-c211-4b75-b887-aa94232edc5a');\n",
              "        const dataTable =\n",
              "          await google.colab.kernel.invokeFunction('convertToInteractive',\n",
              "                                                    [key], {});\n",
              "        if (!dataTable) return;\n",
              "\n",
              "        const docLinkHtml = 'Like what you see? Visit the ' +\n",
              "          '<a target=\"_blank\" href=https://colab.research.google.com/notebooks/data_table.ipynb>data table notebook</a>'\n",
              "          + ' to learn more about interactive tables.';\n",
              "        element.innerHTML = '';\n",
              "        dataTable['output_type'] = 'display_data';\n",
              "        await google.colab.output.renderOutput(dataTable, element);\n",
              "        const docLink = document.createElement('div');\n",
              "        docLink.innerHTML = docLinkHtml;\n",
              "        element.appendChild(docLink);\n",
              "      }\n",
              "    </script>\n",
              "  </div>\n",
              "\n",
              "\n",
              "<div id=\"df-4a3ed328-0585-4ec5-9424-d19e3c7ff371\">\n",
              "  <button class=\"colab-df-quickchart\" onclick=\"quickchart('df-4a3ed328-0585-4ec5-9424-d19e3c7ff371')\"\n",
              "            title=\"Suggest charts\"\n",
              "            style=\"display:none;\">\n",
              "\n",
              "<svg xmlns=\"http://www.w3.org/2000/svg\" height=\"24px\"viewBox=\"0 0 24 24\"\n",
              "     width=\"24px\">\n",
              "    <g>\n",
              "        <path d=\"M19 3H5c-1.1 0-2 .9-2 2v14c0 1.1.9 2 2 2h14c1.1 0 2-.9 2-2V5c0-1.1-.9-2-2-2zM9 17H7v-7h2v7zm4 0h-2V7h2v10zm4 0h-2v-4h2v4z\"/>\n",
              "    </g>\n",
              "</svg>\n",
              "  </button>\n",
              "\n",
              "<style>\n",
              "  .colab-df-quickchart {\n",
              "      --bg-color: #E8F0FE;\n",
              "      --fill-color: #1967D2;\n",
              "      --hover-bg-color: #E2EBFA;\n",
              "      --hover-fill-color: #174EA6;\n",
              "      --disabled-fill-color: #AAA;\n",
              "      --disabled-bg-color: #DDD;\n",
              "  }\n",
              "\n",
              "  [theme=dark] .colab-df-quickchart {\n",
              "      --bg-color: #3B4455;\n",
              "      --fill-color: #D2E3FC;\n",
              "      --hover-bg-color: #434B5C;\n",
              "      --hover-fill-color: #FFFFFF;\n",
              "      --disabled-bg-color: #3B4455;\n",
              "      --disabled-fill-color: #666;\n",
              "  }\n",
              "\n",
              "  .colab-df-quickchart {\n",
              "    background-color: var(--bg-color);\n",
              "    border: none;\n",
              "    border-radius: 50%;\n",
              "    cursor: pointer;\n",
              "    display: none;\n",
              "    fill: var(--fill-color);\n",
              "    height: 32px;\n",
              "    padding: 0;\n",
              "    width: 32px;\n",
              "  }\n",
              "\n",
              "  .colab-df-quickchart:hover {\n",
              "    background-color: var(--hover-bg-color);\n",
              "    box-shadow: 0 1px 2px rgba(60, 64, 67, 0.3), 0 1px 3px 1px rgba(60, 64, 67, 0.15);\n",
              "    fill: var(--button-hover-fill-color);\n",
              "  }\n",
              "\n",
              "  .colab-df-quickchart-complete:disabled,\n",
              "  .colab-df-quickchart-complete:disabled:hover {\n",
              "    background-color: var(--disabled-bg-color);\n",
              "    fill: var(--disabled-fill-color);\n",
              "    box-shadow: none;\n",
              "  }\n",
              "\n",
              "  .colab-df-spinner {\n",
              "    border: 2px solid var(--fill-color);\n",
              "    border-color: transparent;\n",
              "    border-bottom-color: var(--fill-color);\n",
              "    animation:\n",
              "      spin 1s steps(1) infinite;\n",
              "  }\n",
              "\n",
              "  @keyframes spin {\n",
              "    0% {\n",
              "      border-color: transparent;\n",
              "      border-bottom-color: var(--fill-color);\n",
              "      border-left-color: var(--fill-color);\n",
              "    }\n",
              "    20% {\n",
              "      border-color: transparent;\n",
              "      border-left-color: var(--fill-color);\n",
              "      border-top-color: var(--fill-color);\n",
              "    }\n",
              "    30% {\n",
              "      border-color: transparent;\n",
              "      border-left-color: var(--fill-color);\n",
              "      border-top-color: var(--fill-color);\n",
              "      border-right-color: var(--fill-color);\n",
              "    }\n",
              "    40% {\n",
              "      border-color: transparent;\n",
              "      border-right-color: var(--fill-color);\n",
              "      border-top-color: var(--fill-color);\n",
              "    }\n",
              "    60% {\n",
              "      border-color: transparent;\n",
              "      border-right-color: var(--fill-color);\n",
              "    }\n",
              "    80% {\n",
              "      border-color: transparent;\n",
              "      border-right-color: var(--fill-color);\n",
              "      border-bottom-color: var(--fill-color);\n",
              "    }\n",
              "    90% {\n",
              "      border-color: transparent;\n",
              "      border-bottom-color: var(--fill-color);\n",
              "    }\n",
              "  }\n",
              "</style>\n",
              "\n",
              "  <script>\n",
              "    async function quickchart(key) {\n",
              "      const quickchartButtonEl =\n",
              "        document.querySelector('#' + key + ' button');\n",
              "      quickchartButtonEl.disabled = true;  // To prevent multiple clicks.\n",
              "      quickchartButtonEl.classList.add('colab-df-spinner');\n",
              "      try {\n",
              "        const charts = await google.colab.kernel.invokeFunction(\n",
              "            'suggestCharts', [key], {});\n",
              "      } catch (error) {\n",
              "        console.error('Error during call to suggestCharts:', error);\n",
              "      }\n",
              "      quickchartButtonEl.classList.remove('colab-df-spinner');\n",
              "      quickchartButtonEl.classList.add('colab-df-quickchart-complete');\n",
              "    }\n",
              "    (() => {\n",
              "      let quickchartButtonEl =\n",
              "        document.querySelector('#df-4a3ed328-0585-4ec5-9424-d19e3c7ff371 button');\n",
              "      quickchartButtonEl.style.display =\n",
              "        google.colab.kernel.accessAllowed ? 'block' : 'none';\n",
              "    })();\n",
              "  </script>\n",
              "</div>\n",
              "\n",
              "    </div>\n",
              "  </div>\n"
            ],
            "application/vnd.google.colaboratory.intrinsic+json": {
              "type": "dataframe",
              "variable_name": "df",
              "summary": "{\n  \"name\": \"df\",\n  \"rows\": 27901,\n  \"fields\": [\n    {\n      \"column\": \"id\",\n      \"properties\": {\n        \"dtype\": \"number\",\n        \"std\": 40641,\n        \"min\": 2,\n        \"max\": 140699,\n        \"num_unique_values\": 27901,\n        \"samples\": [\n          101205,\n          83727,\n          38395\n        ],\n        \"semantic_type\": \"\",\n        \"description\": \"\"\n      }\n    },\n    {\n      \"column\": \"Gender\",\n      \"properties\": {\n        \"dtype\": \"category\",\n        \"num_unique_values\": 2,\n        \"samples\": [\n          \"Female\",\n          \"Male\"\n        ],\n        \"semantic_type\": \"\",\n        \"description\": \"\"\n      }\n    },\n    {\n      \"column\": \"Age\",\n      \"properties\": {\n        \"dtype\": \"number\",\n        \"std\": 4.90568744892443,\n        \"min\": 18.0,\n        \"max\": 59.0,\n        \"num_unique_values\": 34,\n        \"samples\": [\n          32.0,\n          42.0\n        ],\n        \"semantic_type\": \"\",\n        \"description\": \"\"\n      }\n    },\n    {\n      \"column\": \"City\",\n      \"properties\": {\n        \"dtype\": \"category\",\n        \"num_unique_values\": 52,\n        \"samples\": [\n          \"Ludhiana\",\n          \"Harsh\"\n        ],\n        \"semantic_type\": \"\",\n        \"description\": \"\"\n      }\n    },\n    {\n      \"column\": \"Profession\",\n      \"properties\": {\n        \"dtype\": \"category\",\n        \"num_unique_values\": 14,\n        \"samples\": [\n          \"Chef\",\n          \"Lawyer\"\n        ],\n        \"semantic_type\": \"\",\n        \"description\": \"\"\n      }\n    },\n    {\n      \"column\": \"Academic Pressure\",\n      \"properties\": {\n        \"dtype\": \"number\",\n        \"std\": 1.3814648413276254,\n        \"min\": 0.0,\n        \"max\": 5.0,\n        \"num_unique_values\": 6,\n        \"samples\": [\n          5.0,\n          2.0\n        ],\n        \"semantic_type\": \"\",\n        \"description\": \"\"\n      }\n    },\n    {\n      \"column\": \"Work Pressure\",\n      \"properties\": {\n        \"dtype\": \"number\",\n        \"std\": 0.043992032063926795,\n        \"min\": 0.0,\n        \"max\": 5.0,\n        \"num_unique_values\": 3,\n        \"samples\": [\n          0.0,\n          5.0\n        ],\n        \"semantic_type\": \"\",\n        \"description\": \"\"\n      }\n    },\n    {\n      \"column\": \"CGPA\",\n      \"properties\": {\n        \"dtype\": \"number\",\n        \"std\": 1.470707346207616,\n        \"min\": 0.0,\n        \"max\": 10.0,\n        \"num_unique_values\": 332,\n        \"samples\": [\n          5.74,\n          6.32\n        ],\n        \"semantic_type\": \"\",\n        \"description\": \"\"\n      }\n    },\n    {\n      \"column\": \"Study Satisfaction\",\n      \"properties\": {\n        \"dtype\": \"number\",\n        \"std\": 1.361147955267022,\n        \"min\": 0.0,\n        \"max\": 5.0,\n        \"num_unique_values\": 6,\n        \"samples\": [\n          2.0,\n          5.0\n        ],\n        \"semantic_type\": \"\",\n        \"description\": \"\"\n      }\n    },\n    {\n      \"column\": \"Job Satisfaction\",\n      \"properties\": {\n        \"dtype\": \"number\",\n        \"std\": 0.044394396218617196,\n        \"min\": 0.0,\n        \"max\": 4.0,\n        \"num_unique_values\": 5,\n        \"samples\": [\n          3.0,\n          1.0\n        ],\n        \"semantic_type\": \"\",\n        \"description\": \"\"\n      }\n    },\n    {\n      \"column\": \"Sleep Duration\",\n      \"properties\": {\n        \"dtype\": \"category\",\n        \"num_unique_values\": 5,\n        \"samples\": [\n          \"Less than 5 hours\",\n          \"Others\"\n        ],\n        \"semantic_type\": \"\",\n        \"description\": \"\"\n      }\n    },\n    {\n      \"column\": \"Dietary Habits\",\n      \"properties\": {\n        \"dtype\": \"category\",\n        \"num_unique_values\": 4,\n        \"samples\": [\n          \"Moderate\",\n          \"Others\"\n        ],\n        \"semantic_type\": \"\",\n        \"description\": \"\"\n      }\n    },\n    {\n      \"column\": \"Degree\",\n      \"properties\": {\n        \"dtype\": \"category\",\n        \"num_unique_values\": 28,\n        \"samples\": [\n          \"BE\",\n          \"ME\"\n        ],\n        \"semantic_type\": \"\",\n        \"description\": \"\"\n      }\n    },\n    {\n      \"column\": \"Have you ever had suicidal thoughts ?\",\n      \"properties\": {\n        \"dtype\": \"category\",\n        \"num_unique_values\": 2,\n        \"samples\": [\n          \"No\",\n          \"Yes\"\n        ],\n        \"semantic_type\": \"\",\n        \"description\": \"\"\n      }\n    },\n    {\n      \"column\": \"Work/Study Hours\",\n      \"properties\": {\n        \"dtype\": \"number\",\n        \"std\": 3.707642072778702,\n        \"min\": 0.0,\n        \"max\": 12.0,\n        \"num_unique_values\": 13,\n        \"samples\": [\n          5.0,\n          6.0\n        ],\n        \"semantic_type\": \"\",\n        \"description\": \"\"\n      }\n    },\n    {\n      \"column\": \"Financial Stress\",\n      \"properties\": {\n        \"dtype\": \"number\",\n        \"std\": 1.4373466968347501,\n        \"min\": 1.0,\n        \"max\": 5.0,\n        \"num_unique_values\": 5,\n        \"samples\": [\n          2.0,\n          4.0\n        ],\n        \"semantic_type\": \"\",\n        \"description\": \"\"\n      }\n    },\n    {\n      \"column\": \"Family History of Mental Illness\",\n      \"properties\": {\n        \"dtype\": \"category\",\n        \"num_unique_values\": 2,\n        \"samples\": [\n          \"Yes\",\n          \"No\"\n        ],\n        \"semantic_type\": \"\",\n        \"description\": \"\"\n      }\n    },\n    {\n      \"column\": \"Depression\",\n      \"properties\": {\n        \"dtype\": \"number\",\n        \"std\": 0,\n        \"min\": 0,\n        \"max\": 1,\n        \"num_unique_values\": 2,\n        \"samples\": [\n          0,\n          1\n        ],\n        \"semantic_type\": \"\",\n        \"description\": \"\"\n      }\n    }\n  ]\n}"
            }
          },
          "metadata": {},
          "execution_count": 7
        }
      ]
    },
    {
      "cell_type": "code",
      "source": [
        "df.info()"
      ],
      "metadata": {
        "colab": {
          "base_uri": "https://localhost:8080/"
        },
        "id": "bEWDcz2i1kJi",
        "outputId": "db410907-7b0b-4ef8-9588-5d784b617ed4"
      },
      "execution_count": null,
      "outputs": [
        {
          "output_type": "stream",
          "name": "stdout",
          "text": [
            "<class 'pandas.core.frame.DataFrame'>\n",
            "RangeIndex: 27901 entries, 0 to 27900\n",
            "Data columns (total 18 columns):\n",
            " #   Column                                 Non-Null Count  Dtype  \n",
            "---  ------                                 --------------  -----  \n",
            " 0   id                                     27901 non-null  int64  \n",
            " 1   Gender                                 27901 non-null  object \n",
            " 2   Age                                    27901 non-null  float64\n",
            " 3   City                                   27901 non-null  object \n",
            " 4   Profession                             27901 non-null  object \n",
            " 5   Academic Pressure                      27901 non-null  float64\n",
            " 6   Work Pressure                          27901 non-null  float64\n",
            " 7   CGPA                                   27901 non-null  float64\n",
            " 8   Study Satisfaction                     27901 non-null  float64\n",
            " 9   Job Satisfaction                       27901 non-null  float64\n",
            " 10  Sleep Duration                         27901 non-null  object \n",
            " 11  Dietary Habits                         27901 non-null  object \n",
            " 12  Degree                                 27901 non-null  object \n",
            " 13  Have you ever had suicidal thoughts ?  27901 non-null  object \n",
            " 14  Work/Study Hours                       27901 non-null  float64\n",
            " 15  Financial Stress                       27898 non-null  float64\n",
            " 16  Family History of Mental Illness       27901 non-null  object \n",
            " 17  Depression                             27901 non-null  int64  \n",
            "dtypes: float64(8), int64(2), object(8)\n",
            "memory usage: 3.8+ MB\n"
          ]
        }
      ]
    },
    {
      "cell_type": "code",
      "source": [
        "#Probably need to do some cleaning on this? Change some of the columns to numeric values?\n",
        "X = df.iloc[:, 5:9].values  # selecting some of the numeric columns\n",
        "y = df.iloc[:, -1].values   # only take the last one, since it has our label\n"
      ],
      "metadata": {
        "id": "Fz_CljKF1n9w"
      },
      "execution_count": null,
      "outputs": []
    },
    {
      "cell_type": "code",
      "source": [
        "#might want to find a better way to do this, it's weird that train_test_split is its own thing,\n",
        "#like tensorflow just has .sample()\n",
        "X_train, X_test, y_train, y_test = train_test_split(X, y, test_size=0.2, random_state=42)\n",
        "\n",
        "X_train = torch.tensor(X_train, dtype=torch.float32)\n",
        "X_test = torch.tensor(X_test, dtype=torch.float32)\n",
        "y_train = torch.tensor(y_train, dtype=torch.float32).view(-1, 1)\n",
        "y_test = torch.tensor(y_test, dtype=torch.float32).view(-1, 1)\n"
      ],
      "metadata": {
        "id": "_hEA37AB3eF3"
      },
      "execution_count": null,
      "outputs": []
    },
    {
      "cell_type": "code",
      "source": [
        "train_dataset = TensorDataset(X_train, y_train)\n",
        "test_dataset = TensorDataset(X_test, y_test)\n",
        "\n",
        "#need to look into how dataloaders work, also that the test set doesn't need to be shuffled\n",
        "train_loader = DataLoader(train_dataset, batch_size=16, shuffle=True)\n",
        "test_loader = DataLoader(test_dataset, batch_size=16, shuffle=False)"
      ],
      "metadata": {
        "id": "5xHR8npM4Qav"
      },
      "execution_count": null,
      "outputs": []
    },
    {
      "cell_type": "code",
      "source": [
        "class SimpleNN(nn.Module):\n",
        "    def __init__(self, input_size):\n",
        "        #probably want to mess with the sizes here to better fit the model?\n",
        "        super(SimpleNN, self).__init__()\n",
        "        self.fc1 = nn.Linear(input_size, 16)\n",
        "        self.fc2 = nn.Linear(16, 8)\n",
        "        self.fc3 = nn.Linear(8, 1)\n",
        "        self.relu = nn.ReLU()\n",
        "        self.sigmoid = nn.Sigmoid()\n",
        "\n",
        "    def forward(self, x):\n",
        "        x = self.relu(self.fc1(x))\n",
        "        x = self.relu(self.fc2(x))\n",
        "        x = self.sigmoid(self.fc3(x))\n",
        "        return x"
      ],
      "metadata": {
        "id": "Oa2qhkCt4SJl"
      },
      "execution_count": null,
      "outputs": []
    },
    {
      "cell_type": "code",
      "source": [
        "model = SimpleNN(X_train.shape[1])\n",
        "criterion = nn.BCELoss()  #also tweek this learning\n",
        "optimizer = optim.Adam(model.parameters(), lr=0.01)\n"
      ],
      "metadata": {
        "id": "wdzt5yRv4kJo"
      },
      "execution_count": null,
      "outputs": []
    },
    {
      "cell_type": "code",
      "source": [
        "num_epochs = 20\n",
        "train_losses = []\n",
        "\n",
        "for epoch in range(num_epochs):\n",
        "    epoch_loss = 0  # Track loss for this epoch\n",
        "    for X_batch, y_batch in train_loader:\n",
        "        optimizer.zero_grad()\n",
        "        outputs = model(X_batch)\n",
        "        loss = criterion(outputs, y_batch)\n",
        "        loss.backward()\n",
        "        optimizer.step()\n",
        "\n",
        "        epoch_loss += loss.item()  # Sum up batch losses\n",
        "\n",
        "    avg_loss = epoch_loss / len(train_loader)  # Average loss per epoch\n",
        "    train_losses.append(avg_loss)  # Store for graphing\n",
        "\n",
        "    print(f\"Epoch {epoch+1}/{num_epochs}, Loss: {avg_loss:.4f}\")\n"
      ],
      "metadata": {
        "colab": {
          "base_uri": "https://localhost:8080/"
        },
        "id": "LuCVHtUz5smb",
        "outputId": "cd3449b7-a0d4-44a4-d665-2b2e1b6f1c49"
      },
      "execution_count": null,
      "outputs": [
        {
          "output_type": "stream",
          "name": "stdout",
          "text": [
            "Epoch 1/20, Loss: 0.5501\n",
            "Epoch 2/20, Loss: 0.5496\n",
            "Epoch 3/20, Loss: 0.5500\n",
            "Epoch 4/20, Loss: 0.5498\n",
            "Epoch 5/20, Loss: 0.5495\n",
            "Epoch 6/20, Loss: 0.5494\n",
            "Epoch 7/20, Loss: 0.5495\n",
            "Epoch 8/20, Loss: 0.5493\n",
            "Epoch 9/20, Loss: 0.5497\n",
            "Epoch 10/20, Loss: 0.5497\n",
            "Epoch 11/20, Loss: 0.5497\n",
            "Epoch 12/20, Loss: 0.5492\n",
            "Epoch 13/20, Loss: 0.5499\n",
            "Epoch 14/20, Loss: 0.5494\n",
            "Epoch 15/20, Loss: 0.5501\n",
            "Epoch 16/20, Loss: 0.5492\n",
            "Epoch 17/20, Loss: 0.5500\n",
            "Epoch 18/20, Loss: 0.5495\n",
            "Epoch 19/20, Loss: 0.5499\n",
            "Epoch 20/20, Loss: 0.5497\n"
          ]
        }
      ]
    },
    {
      "cell_type": "code",
      "source": [
        "#probably would have been useful to know doing it like this during a2\n",
        "model.eval()\n",
        "with torch.no_grad():\n",
        "    correct, total = 0, 0\n",
        "    for X_batch, y_batch in test_loader:\n",
        "        outputs = model(X_batch)\n",
        "        predicted = (outputs >= 0.5).float()\n",
        "        correct += (predicted == y_batch).sum().item()\n",
        "        total += y_batch.size(0)\n",
        "\n",
        "accuracy = correct / total\n",
        "print(f\"Test Accuracy: {accuracy:.4f}\")\n"
      ],
      "metadata": {
        "colab": {
          "base_uri": "https://localhost:8080/"
        },
        "id": "CmWRhMlC6Y6S",
        "outputId": "cbe3c817-54aa-4988-cac4-895e52931e35"
      },
      "execution_count": null,
      "outputs": [
        {
          "output_type": "stream",
          "name": "stdout",
          "text": [
            "Test Accuracy: 0.7318\n"
          ]
        }
      ]
    },
    {
      "cell_type": "code",
      "source": [
        "plt.plot(range(1, num_epochs + 1), train_losses, marker='o', linestyle='-', color='b')\n",
        "plt.xlabel(\"Epoch\")\n",
        "plt.ylabel(\"Loss\")\n",
        "plt.title(\"Training Loss Over Time\")\n",
        "plt.show()\n",
        "\n",
        "#well, this needs improvements, it's not converging that well at all"
      ],
      "metadata": {
        "colab": {
          "base_uri": "https://localhost:8080/",
          "height": 472
        },
        "id": "EExCARBa6u1T",
        "outputId": "1b62779f-b422-48e5-a84a-f985f063eae7"
      },
      "execution_count": null,
      "outputs": [
        {
          "output_type": "display_data",
          "data": {
            "text/plain": [
              "<Figure size 640x480 with 1 Axes>"
            ],
            "image/png": "[encoded data removed]"
          },
          "metadata": {}
        }
      ]
    },
    {
      "cell_type": "code",
      "source": [
        "#old code based on a previous project I did. Doesn't work, so I went and used an LLM to get some example code and made the section above\n",
        "#definitely want to do something better though\n",
        "\n",
        "# @title\n",
        "# print(\"Hello World\")\n",
        "# from google.colab import drive\n",
        "# import matplotlib.pyplot as plt\n",
        "# import numpy as np\n",
        "# import pandas as pd\n",
        "# import tensorflow as tf\n",
        "# csv_file = 'drive/My Drive/Colab_Notebooks/ECE 1508/Project/Datasets/Student Depression Dataset.csv'\n",
        "\n",
        "# student_data = pd.read_csv(csv_file)\n",
        "# student_df = pd.read_csv(csv_file)\n",
        "\n",
        "\n",
        "# student_data.head()\n",
        "# # student_df.info()\n",
        "\n",
        "\n",
        "\n",
        "\n",
        "# #make a training set\n",
        "# student_train = student_data.sample(frac=0.7,random_state=100)\n",
        "# #also a test set\n",
        "# student_test = student_train.drop(student_train.index)\n",
        "\n",
        "\n",
        "# #get our label from the dataset (just the depression column)\n",
        "# #convert it to boolean\n",
        "# depression_train = np.array(student_train['Depression'])\n",
        "# depression_train = depression_train.astype(bool)\n",
        "\n",
        "\n",
        "# #probably need to change some values here?\n",
        "# #like, converting yes to 1,\n",
        "# input_data = np.array(student_train[[\n",
        "#    'Study Satisfaction',\n",
        "#     ]])\n",
        "\n",
        "# input_data = input_data.astype(float)\n",
        "\n",
        "\n",
        "\n",
        "# x_train = input_data.reshape(-1,1)\n",
        "# y_train = depression_train\n",
        "\n",
        "\n",
        "\n",
        "\n",
        "# model = tf.keras.models.Sequential([\n",
        "#   tf.keras.layers.Dense(units=1, activation=None),\n",
        "#   tf.keras.layers.Dense(units=3, activation=None),\n",
        "#   tf.keras.layers.Dense(units=5, activation=None),\n",
        "\n",
        "# ])\n",
        "\n",
        "# model.compile(optimizer=tf.keras.optimizers.Adam(learning_rate=0.01),\n",
        "# loss=tf.keras.losses.mae)\n",
        "\n",
        "\n",
        "# #not sure I'm setting this up right, maybe swtich back to pytorch?\n",
        "# model.fit(x_train,y_train,epochs=1)\n",
        "\n",
        "\n",
        "\n",
        "# model.summary()\n",
        "\n",
        "\n",
        "# history = model.fit(x_train,y_train,epochs=100)\n",
        "\n"
      ],
      "metadata": {
        "id": "m4c4VJVSxDrH"
      },
      "execution_count": 1,
      "outputs": []
    },
    {
      "cell_type": "code",
      "source": [],
      "metadata": {
        "id": "1qx2eotsJnjo"
      },
      "execution_count": null,
      "outputs": []
    }
  ]
}